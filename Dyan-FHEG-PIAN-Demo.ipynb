{
 "cells": [
  {
   "cell_type": "markdown",
   "id": "23a6da47",
   "metadata": {},
   "source": [
    "# Dyan-FHEG-PIAN: Stock Forecasting Demo\n",
    "This notebook demonstrates loading, training, and visualizing the forecasting model."
   ]
  },
  {
   "cell_type": "code",
   "execution_count": null,
   "id": "4bdc8e13",
   "metadata": {},
   "outputs": [],
   "source": [
    "from main import preprocess_data, build_dyan_fheg_pian\n",
    "import tensorflow as tf\n",
    "import pandas as pd\n",
    "from sklearn.model_selection import train_test_split"
   ]
  },
  {
   "cell_type": "code",
   "execution_count": null,
   "id": "4d7d70b1",
   "metadata": {},
   "outputs": [],
   "source": [
    "# Load and preprocess data\n",
    "df, _ = preprocess_data(\"Data/msft_sample_data.csv\")\n",
    "df['Target'] = df.mean(axis=1).shift(-1)\n",
    "df.dropna(inplace=True)"
   ]
  },
  {
   "cell_type": "code",
   "execution_count": null,
   "id": "2e87cf09",
   "metadata": {},
   "outputs": [],
   "source": [
    "# Prepare input and target\n",
    "X = tf.convert_to_tensor(df.drop(columns=['Target']).values[:, :, None], dtype=tf.float32)\n",
    "y = tf.convert_to_tensor(df['Target'].values, dtype=tf.float32)"
   ]
  },
  {
   "cell_type": "code",
   "execution_count": null,
   "id": "79148f06",
   "metadata": {},
   "outputs": [],
   "source": [
    "# Train-test split\n",
    "from sklearn.model_selection import train_test_split\n",
    "X_train, X_test, y_train, y_test = train_test_split(X, y, test_size=0.2, shuffle=False)"
   ]
  },
  {
   "cell_type": "code",
   "execution_count": null,
   "id": "9b7ceaba",
   "metadata": {},
   "outputs": [],
   "source": [
    "# Build and compile model\n",
    "model = build_dyan_fheg_pian(input_shape=(X.shape[1], 1))\n",
    "model.compile(optimizer='adam', loss='mse', metrics=['mae'])"
   ]
  },
  {
   "cell_type": "code",
   "execution_count": null,
   "id": "ecfb09b7",
   "metadata": {},
   "outputs": [],
   "source": [
    "# Train model\n",
    "model.fit(X_train, y_train, validation_data=(X_test, y_test), epochs=10, verbose=1)"
   ]
  },
  {
   "cell_type": "code",
   "execution_count": null,
   "id": "9e072519",
   "metadata": {},
   "outputs": [],
   "source": [
    "# Predict and visualize\n",
    "import matplotlib.pyplot as plt\n",
    "pred = model.predict(X_test)\n",
    "plt.plot(y_test.numpy(), label='Actual')\n",
    "plt.plot(pred.flatten(), label='Predicted')\n",
    "plt.legend()\n",
    "plt.title(\"Actual vs Predicted Stock Prices\")\n",
    "plt.show()"
   ]
  }
 ],
 "metadata": {},
 "nbformat": 4,
 "nbformat_minor": 5
}